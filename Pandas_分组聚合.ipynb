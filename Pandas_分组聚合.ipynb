{
 "cells": [
  {
   "cell_type": "code",
   "execution_count": 1,
   "id": "6e32a7c4",
   "metadata": {},
   "outputs": [
    {
     "name": "stdout",
     "output_type": "stream",
     "text": [
      "        age        city      sex      birth\n",
      "name                                       \n",
      "Tom    18.0   Bei Jing      None 2000-02-10\n",
      "Bob    30.0  Shang Hai      male 1988-10-17\n",
      "Mary    NaN  Guang Zhou   female        NaT\n",
      "James  40.0   Shen Zhen     male 1978-08-08\n",
      "Andy    NaN         NaN      NaN        NaT\n",
      "Alice  30.0              unknown 1988-10-17\n",
      "************************************************************\n"
     ]
    }
   ],
   "source": [
    "# -*- encoding: utf-8 -*-\n",
    "import numpy as np\n",
    "import pandas as pd\n",
    "\n",
    "# 模拟数据\n",
    "index = pd.Index(data=[\"Tom\", \"Bob\", \"Mary\", \"James\", \"Andy\", \"Alice\"], name=\"name\")\n",
    "data = {\n",
    "    \"age\": [18, 30, np.nan, 40, np.nan, 30],\n",
    "    \"city\": [\"Bei Jing \", \"Shang Hai \", \"Guang Zhou\", \"Shen Zhen\", np.nan, \" \"],\n",
    "    \"sex\": [None, \"male\", \"female\", \"male\", np.nan, \"unknown\"],\n",
    "    \"birth\": [\"2000-02-10\", \"1988-10-17\", None, \"1978-08-08\", np.nan, \"1988-10-17\"]\n",
    "}\n",
    "user_info = pd.DataFrame(data=data, index=index)\n",
    "user_info[\"birth\"] = pd.to_datetime(user_info.birth)\n",
    "print(user_info)\n",
    "print('*' * 60)\n"
   ]
  },
  {
   "cell_type": "code",
   "execution_count": 2,
   "id": "ccbdda4e",
   "metadata": {},
   "outputs": [
    {
     "name": "stdout",
     "output_type": "stream",
     "text": [
      "{'female': ['Mary'], 'male': ['Bob', 'James'], 'unknown': ['Alice']}\n"
     ]
    }
   ],
   "source": [
    "# 分组聚合操作：将筛选后的数据再加工\n",
    "# 分组：列出生重复值时可以分组，索引不要分组\n",
    "g1 = user_info.groupby(\"sex\")\n",
    "print(g1.groups)\n"
   ]
  },
  {
   "cell_type": "code",
   "execution_count": 3,
   "id": "bab844fc",
   "metadata": {},
   "outputs": [
    {
     "name": "stdout",
     "output_type": "stream",
     "text": [
      "{('female', nan): ['Mary'], ('male', 30.0): ['Bob'], ('male', 40.0): ['James'], ('unknown', 30.0): ['Alice'], (nan, 18.0): ['Tom'], (nan, nan): ['Andy']}\n"
     ]
    }
   ],
   "source": [
    "g2 = user_info.groupby([\"sex\",\"age\",])\n",
    "print(g2.groups)\n"
   ]
  },
  {
   "cell_type": "code",
   "execution_count": 4,
   "id": "164f6015",
   "metadata": {},
   "outputs": [
    {
     "name": "stdout",
     "output_type": "stream",
     "text": [
      "{'female': ['Mary'], 'male': ['Bob', 'James'], 'unknown': ['Alice']}\n"
     ]
    }
   ],
   "source": [
    "g3 = user_info.groupby([\"sex\",],sort=True)\n",
    "print(g3.groups)\n"
   ]
  },
  {
   "cell_type": "code",
   "execution_count": 5,
   "id": "8067e446",
   "metadata": {},
   "outputs": [
    {
     "name": "stdout",
     "output_type": "stream",
     "text": [
      "{'male': ['Bob', 'James'], 'female': ['Mary'], 'unknown': ['Alice']}\n"
     ]
    }
   ],
   "source": [
    "g4= user_info.groupby([\"sex\",],sort=False)\n",
    "print(g4.groups)\n"
   ]
  },
  {
   "cell_type": "code",
   "execution_count": 6,
   "id": "b9a55f90",
   "metadata": {},
   "outputs": [
    {
     "name": "stdout",
     "output_type": "stream",
     "text": [
      "************************************************************\n",
      "male\n",
      "        age        city   sex      birth\n",
      "name                                    \n",
      "Bob    30.0  Shang Hai   male 1988-10-17\n",
      "James  40.0   Shen Zhen  male 1978-08-08\n",
      "female\n",
      "      age        city     sex birth\n",
      "name                               \n",
      "Mary  NaN  Guang Zhou  female   NaT\n",
      "unknown\n",
      "        age city      sex      birth\n",
      "name                                \n",
      "Alice  30.0       unknown 1988-10-17\n"
     ]
    }
   ],
   "source": [
    "print('*' * 60)\n",
    "# 遍历分组：n是分组值，g是明细数据\n",
    "for n,g in g4:\n",
    "    print(n)\n",
    "    print(g)\n"
   ]
  },
  {
   "cell_type": "code",
   "execution_count": 7,
   "id": "1033e1ab",
   "metadata": {},
   "outputs": [
    {
     "name": "stdout",
     "output_type": "stream",
     "text": [
      "sex\n",
      "male       2.0\n",
      "female     1.0\n",
      "unknown    1.0\n",
      "Name: age, dtype: float64\n"
     ]
    }
   ],
   "source": [
    "# 聚合：分组是为了统计，统计就需要聚合\n",
    "# 此处len函数实际是计算age列的数组的长度，简单说就是计数\n",
    "df2 = g4[\"age\"].agg(len)\n",
    "print(df2)\n"
   ]
  },
  {
   "cell_type": "code",
   "execution_count": 8,
   "id": "e6ba86ee",
   "metadata": {},
   "outputs": [
    {
     "name": "stdout",
     "output_type": "stream",
     "text": [
      "         age  city  birth\n",
      "sex                      \n",
      "male     2.0     2      2\n",
      "female   1.0     1      1\n",
      "unknown  1.0     1      1\n",
      "sex      age \n",
      "male     30.0    1.0\n",
      "         40.0    1.0\n",
      "unknown  30.0    1.0\n",
      "Name: age, dtype: float64\n",
      "              city  birth\n",
      "sex     age              \n",
      "male    30.0     1      1\n",
      "        40.0     1      1\n",
      "unknown 30.0     1      1\n"
     ]
    }
   ],
   "source": [
    "df3 = g4.agg(len)\n",
    "print(df3)\n",
    "df4 = g2[\"age\"].agg(len)\n",
    "print(df4)\n",
    "df5 = g2.agg(len)\n",
    "print(df5)\n"
   ]
  },
  {
   "cell_type": "code",
   "execution_count": 9,
   "id": "bc42ff62",
   "metadata": {},
   "outputs": [
    {
     "name": "stdout",
     "output_type": "stream",
     "text": [
      "       sex   age  city  birth\n",
      "0     male  30.0     1      1\n",
      "1     male  40.0     1      1\n",
      "2  unknown  30.0     1      1\n",
      "       sex   age  city  birth\n",
      "0     male  30.0     1      1\n",
      "1     male  40.0     1      1\n",
      "2  unknown  30.0     1      1\n"
     ]
    }
   ],
   "source": [
    "# 将多层索引转换为表格，方便读取数据\n",
    "# 1\n",
    "print(df5.reset_index())\n",
    "# 2\n",
    "g5 = user_info.groupby([\"sex\",\"age\",],as_index=False)\n",
    "df6 = g5.agg(len)\n",
    "print(df6)\n"
   ]
  },
  {
   "cell_type": "code",
   "execution_count": null,
   "id": "4b93f4e9",
   "metadata": {},
   "outputs": [],
   "source": []
  }
 ],
 "metadata": {
  "kernelspec": {
   "display_name": "PyCharm (test1)",
   "language": "python",
   "name": "pycharm-86e388bf"
  },
  "language_info": {
   "codemirror_mode": {
    "name": "ipython",
    "version": 3
   },
   "file_extension": ".py",
   "mimetype": "text/x-python",
   "name": "python",
   "nbconvert_exporter": "python",
   "pygments_lexer": "ipython3",
   "version": "3.8.8"
  }
 },
 "nbformat": 4,
 "nbformat_minor": 5
}
