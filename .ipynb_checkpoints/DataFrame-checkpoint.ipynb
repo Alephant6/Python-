{
 "cells": [
  {
   "cell_type": "code",
   "execution_count": 1,
   "id": "2bbd9394",
   "metadata": {},
   "outputs": [],
   "source": [
    "import numpy as np\n",
    "import pandas as pd"
   ]
  },
  {
   "cell_type": "code",
   "execution_count": 3,
   "id": "ca14a7dc",
   "metadata": {},
   "outputs": [
    {
     "name": "stdout",
     "output_type": "stream",
     "text": [
      "          age address\n",
      "zhangsan   22      nj\n",
      "lishi      18      bj\n",
      "wangwu     20      nj\n",
      "zhaoliu    21      sh\n",
      "wanger     25      bj\n"
     ]
    }
   ],
   "source": [
    "# 定义索引信息\n",
    "index = pd.Index(data=[\"zhangsan\",\"lishi\",\"wangwu\",\"zhaoliu\",\"wanger\"])\n",
    "data = {\n",
    "    \"age\":[22,18,20,21,25],\n",
    "    \"address\":[\"nj\",\"bj\",\"nj\",\"sh\",\"bj\"]\n",
    "}\n",
    "# 构建DataFrame1:数据完整，提供索引\n",
    "base_info = pd.DataFrame(data=data,index=index)\n",
    "print(base_info)\n"
   ]
  },
  {
   "cell_type": "code",
   "execution_count": 4,
   "id": "b02265aa",
   "metadata": {},
   "outputs": [
    {
     "name": "stdout",
     "output_type": "stream",
     "text": [
      "          age address\n",
      "zhangsan   22      nj\n",
      "lishi      18      bj\n",
      "wangwu     20      nj\n",
      "zhaoliu    21      sh\n",
      "wanger     25      bj\n"
     ]
    }
   ],
   "source": [
    "data2 = [\n",
    "    [22,'nj'],\n",
    "    [18,'bj'],\n",
    "    [20,'nj'],\n",
    "    [21,'sh'],\n",
    "    [25,'bj']\n",
    "]\n",
    "column_list = [\"age\",\"address\"]\n",
    "base_info2 = pd.DataFrame(data=data2,index=index,columns=column_list)\n",
    "print(base_info2)\n"
   ]
  },
  {
   "cell_type": "code",
   "execution_count": 5,
   "id": "dedae1f2",
   "metadata": {},
   "outputs": [
    {
     "name": "stdout",
     "output_type": "stream",
     "text": [
      "********************\n"
     ]
    }
   ],
   "source": [
    "print('*'*20)"
   ]
  },
  {
   "cell_type": "code",
   "execution_count": 6,
   "id": "7664b17b",
   "metadata": {},
   "outputs": [
    {
     "name": "stdout",
     "output_type": "stream",
     "text": [
      "age        18\n",
      "address    bj\n",
      "Name: lishi, dtype: object\n"
     ]
    }
   ],
   "source": [
    "print(base_info.loc['lishi'])"
   ]
  },
  {
   "cell_type": "code",
   "execution_count": 8,
   "id": "16533dab",
   "metadata": {},
   "outputs": [
    {
     "name": "stdout",
     "output_type": "stream",
     "text": [
      "age        18\n",
      "address    bj\n",
      "Name: lishi, dtype: object\n"
     ]
    }
   ],
   "source": [
    "print(base_info.iloc[1])"
   ]
  },
  {
   "cell_type": "code",
   "execution_count": 10,
   "id": "83cd90c3",
   "metadata": {},
   "outputs": [
    {
     "name": "stdout",
     "output_type": "stream",
     "text": [
      "        age address\n",
      "lishi    18      bj\n",
      "wangwu   20      nj\n"
     ]
    }
   ],
   "source": [
    "print(base_info.loc[['lishi', 'wangwu']])"
   ]
  },
  {
   "cell_type": "code",
   "execution_count": 11,
   "id": "c71d4bd1",
   "metadata": {},
   "outputs": [
    {
     "name": "stdout",
     "output_type": "stream",
     "text": [
      "        age address\n",
      "lishi    18      bj\n",
      "wangwu   20      nj\n"
     ]
    }
   ],
   "source": [
    "print(base_info.iloc[1:3])"
   ]
  },
  {
   "cell_type": "code",
   "execution_count": 12,
   "id": "2e6ed0ba",
   "metadata": {},
   "outputs": [
    {
     "name": "stdout",
     "output_type": "stream",
     "text": [
      "18\n"
     ]
    }
   ],
   "source": [
    "print(base_info.loc['lishi','age'])"
   ]
  },
  {
   "cell_type": "code",
   "execution_count": 13,
   "id": "6d7db39b",
   "metadata": {},
   "outputs": [
    {
     "name": "stdout",
     "output_type": "stream",
     "text": [
      "zhangsan    22\n",
      "lishi       18\n",
      "wangwu      20\n",
      "zhaoliu     21\n",
      "wanger      25\n",
      "Name: age, dtype: int64\n"
     ]
    }
   ],
   "source": [
    "print(base_info.age)"
   ]
  },
  {
   "cell_type": "code",
   "execution_count": 14,
   "id": "d3a8679a",
   "metadata": {},
   "outputs": [
    {
     "name": "stdout",
     "output_type": "stream",
     "text": [
      "zhangsan    22\n",
      "lishi       18\n",
      "wangwu      20\n",
      "zhaoliu     21\n",
      "wanger      25\n",
      "Name: age, dtype: int64\n"
     ]
    }
   ],
   "source": [
    "print(base_info[\"age\"])"
   ]
  },
  {
   "cell_type": "code",
   "execution_count": 15,
   "id": "b969d8ef",
   "metadata": {},
   "outputs": [
    {
     "name": "stdout",
     "output_type": "stream",
     "text": [
      "         address  age\n",
      "zhangsan      nj   22\n",
      "lishi         bj   18\n",
      "wangwu        nj   20\n",
      "zhaoliu       sh   21\n",
      "wanger        bj   25\n"
     ]
    }
   ],
   "source": [
    "print(base_info[['address','age']])"
   ]
  },
  {
   "cell_type": "code",
   "execution_count": 22,
   "id": "1ca67b5f",
   "metadata": {},
   "outputs": [
    {
     "name": "stdout",
     "output_type": "stream",
     "text": [
      "          age address gender\n",
      "zhangsan   22      nj      f\n",
      "lishi      18      bj      f\n",
      "wangwu     20      nj      f\n",
      "zhaoliu    21      sh      f\n",
      "wanger     25      bj      f\n"
     ]
    }
   ],
   "source": [
    "base_info['gender'] = 'f'\n",
    "print(base_info)"
   ]
  },
  {
   "cell_type": "code",
   "execution_count": 23,
   "id": "c46c6899",
   "metadata": {},
   "outputs": [
    {
     "name": "stdout",
     "output_type": "stream",
     "text": [
      "          age address\n",
      "zhangsan   22      nj\n",
      "lishi      18      bj\n",
      "wangwu     20      nj\n",
      "zhaoliu    21      sh\n",
      "wanger     25      bj\n"
     ]
    }
   ],
   "source": [
    "base_info.pop('gender')\n",
    "print(base_info)"
   ]
  },
  {
   "cell_type": "code",
   "execution_count": 25,
   "id": "1f2b1c3e",
   "metadata": {},
   "outputs": [
    {
     "name": "stdout",
     "output_type": "stream",
     "text": [
      "          age address gender\n",
      "zhangsan   22      nj      f\n",
      "lishi      18      bj      m\n",
      "wangwu     20      nj      f\n",
      "zhaoliu    21      sh      m\n",
      "wanger     25      bj      f\n"
     ]
    }
   ],
   "source": [
    "base_info['gender'] = ['f','m','f','m','f']\n",
    "print(base_info)"
   ]
  },
  {
   "cell_type": "code",
   "execution_count": 26,
   "id": "98ecc33f",
   "metadata": {},
   "outputs": [
    {
     "name": "stdout",
     "output_type": "stream",
     "text": [
      "          age address gender  gender_int\n",
      "zhangsan   22      nj      f           1\n",
      "lishi      18      bj      m           0\n",
      "wangwu     20      nj      f           1\n",
      "zhaoliu    21      sh      m           0\n",
      "wanger     25      bj      f           1\n"
     ]
    }
   ],
   "source": [
    "new_base_info2= base_info.assign(gender_int = np.where(base_info['gender']=='f',1,0))\n",
    "print(new_base_info2)\n"
   ]
  },
  {
   "cell_type": "code",
   "execution_count": null,
   "id": "9291dd48",
   "metadata": {},
   "outputs": [],
   "source": []
  }
 ],
 "metadata": {
  "kernelspec": {
   "display_name": "PyCharm (test1)",
   "language": "python",
   "name": "pycharm-86e388bf"
  },
  "language_info": {
   "codemirror_mode": {
    "name": "ipython",
    "version": 3
   },
   "file_extension": ".py",
   "mimetype": "text/x-python",
   "name": "python",
   "nbconvert_exporter": "python",
   "pygments_lexer": "ipython3",
   "version": "3.8.8"
  }
 },
 "nbformat": 4,
 "nbformat_minor": 5
}
