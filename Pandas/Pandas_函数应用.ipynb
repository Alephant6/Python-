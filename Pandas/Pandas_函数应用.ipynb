{
 "cells": [
  {
   "cell_type": "code",
   "execution_count": 1,
   "id": "689c5c81",
   "metadata": {},
   "outputs": [
    {
     "name": "stdout",
     "output_type": "stream",
     "text": [
      "          age address gender\n",
      "zhangsan   22      nj      f\n",
      "lishi      17      bj      m\n",
      "wangwu     20      nj      f\n",
      "zhaoliu    16      sh      m\n",
      "wanger     25      bj      f\n",
      "********************\n"
     ]
    }
   ],
   "source": [
    "import numpy as np\n",
    "import  pandas as pd\n",
    "\n",
    "# 定义索引信息\n",
    "index = pd.Index(data=[\"zhangsan\",\"lishi\",\"wangwu\",\"zhaoliu\",\"wanger\"])\n",
    "data = {\n",
    "    \"age\":[22,17,20,16,25],\n",
    "    \"address\":[\"nj\",\"bj\",\"nj\",\"sh\",\"bj\"]\n",
    "}\n",
    "# 构建DataFrame1:数据完整，提供索引\n",
    "base_info = pd.DataFrame(data=data,index=index)\n",
    "base_info['gender'] = ['f','m','f','m','f']\n",
    "print(base_info)\n",
    "print('*'*20)\n"
   ]
  },
  {
   "cell_type": "code",
   "execution_count": 2,
   "id": "abb4c9be",
   "metadata": {},
   "outputs": [
    {
     "name": "stdout",
     "output_type": "stream",
     "text": [
      "zhangsan     成年\n",
      "lishi       未成年\n",
      "wangwu       成年\n",
      "zhaoliu     未成年\n",
      "wanger       成年\n",
      "Name: age, dtype: object\n"
     ]
    }
   ],
   "source": [
    "# 函数应用：基于lambda表达式，python仅支持简单的表达式\n",
    "# 场景：遍历计算，别名和字典\n",
    "r1 = base_info[\"age\"].map(lambda x:\"成年\" if x>=18 else \"未成年\")\n",
    "print(r1)\n"
   ]
  },
  {
   "cell_type": "code",
   "execution_count": 4,
   "id": "baf284a8",
   "metadata": {},
   "outputs": [
    {
     "name": "stdout",
     "output_type": "stream",
     "text": [
      "zhangsan    南京\n",
      "lishi       北京\n",
      "wangwu      南京\n",
      "zhaoliu     上海\n",
      "wanger      北京\n",
      "Name: address, dtype: object\n"
     ]
    }
   ],
   "source": [
    "city_list = {\"bj\":\"北京\",\"nj\":\"南京\",\"sh\":\"上海\"}\n",
    "r2 = base_info[\"address\"].map(city_list)\n",
    "print(r2)"
   ]
  },
  {
   "cell_type": "code",
   "execution_count": null,
   "id": "438ab835",
   "metadata": {},
   "outputs": [],
   "source": []
  }
 ],
 "metadata": {
  "kernelspec": {
   "display_name": "PyCharm (test1)",
   "language": "python",
   "name": "pycharm-86e388bf"
  },
  "language_info": {
   "codemirror_mode": {
    "name": "ipython",
    "version": 3
   },
   "file_extension": ".py",
   "mimetype": "text/x-python",
   "name": "python",
   "nbconvert_exporter": "python",
   "pygments_lexer": "ipython3",
   "version": "3.8.8"
  }
 },
 "nbformat": 4,
 "nbformat_minor": 5
}
