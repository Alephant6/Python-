{
 "cells": [
  {
   "cell_type": "code",
   "execution_count": 1,
   "metadata": {},
   "outputs": [],
   "source": [
    "import numpy as np\n",
    "import pandas as pd"
   ]
  },
  {
   "cell_type": "code",
   "execution_count": 2,
   "metadata": {},
   "outputs": [
    {
     "name": "stdout",
     "output_type": "stream",
     "text": [
      "0    22\n",
      "1    18\n",
      "2    20\n",
      "3    21\n",
      "4    25\n",
      "dtype: int64\n"
     ]
    }
   ],
   "source": [
    "age_list = pd.Series(data=[22,18,20,21,25])\n",
    "print(age_list)"
   ]
  },
  {
   "cell_type": "code",
   "execution_count": 3,
   "metadata": {},
   "outputs": [
    {
     "name": "stdout",
     "output_type": "stream",
     "text": [
      "zhangsan    22\n",
      "lishi       18\n",
      "wangwu      20\n",
      "zhaoliu     21\n",
      "wanger      25\n",
      "dtype: int64\n"
     ]
    }
   ],
   "source": [
    "age_list.index= [\"zhangsan\",\"lishi\",\"wangwu\",\"zhaoliu\",\"wanger\"]\n",
    "print(age_list)"
   ]
  },
  {
   "cell_type": "code",
   "execution_count": 4,
   "metadata": {},
   "outputs": [
    {
     "name": "stdout",
     "output_type": "stream",
     "text": [
      "name\n",
      "zhangsan    22\n",
      "lishi       18\n",
      "wangwu      20\n",
      "zhaoliu     21\n",
      "wanger      25\n",
      "Name: info, dtype: int64\n"
     ]
    }
   ],
   "source": [
    "# 索引起名\n",
    "age_list.index.name = \"name\"\n",
    "# Series起名\n",
    "age_list.name = \"info\"\n",
    "print(age_list)\n"
   ]
  },
  {
   "cell_type": "code",
   "execution_count": 5,
   "metadata": {},
   "outputs": [
    {
     "name": "stdout",
     "output_type": "stream",
     "text": [
      "None\n"
     ]
    }
   ],
   "source": [
    "print(age_list.get(\"wangwu666\"))"
   ]
  },
  {
   "cell_type": "code",
   "execution_count": 6,
   "metadata": {},
   "outputs": [
    {
     "name": "stdout",
     "output_type": "stream",
     "text": [
      "name\n",
      "zhangsan    22\n",
      "lishi       18\n",
      "wangwu      20\n",
      "Name: info, dtype: int64\n"
     ]
    }
   ],
   "source": [
    "print(age_list[:3])"
   ]
  },
  {
   "cell_type": "code",
   "execution_count": 7,
   "metadata": {},
   "outputs": [
    {
     "name": "stdout",
     "output_type": "stream",
     "text": [
      "name\n",
      "zhangsan    22\n",
      "zhaoliu     21\n",
      "wanger      25\n",
      "Name: info, dtype: int64\n"
     ]
    }
   ],
   "source": [
    "print(age_list[age_list > 20])"
   ]
  },
  {
   "cell_type": "code",
   "execution_count": 9,
   "metadata": {},
   "outputs": [
    {
     "name": "stdout",
     "output_type": "stream",
     "text": [
      "name\n",
      "zhangsan    24\n",
      "lishi       20\n",
      "wangwu      22\n",
      "zhaoliu     23\n",
      "wanger      27\n",
      "Name: info, dtype: int64\n"
     ]
    }
   ],
   "source": [
    "r = age_list + 2\n",
    "print(r)"
   ]
  },
  {
   "cell_type": "code",
   "execution_count": null,
   "metadata": {},
   "outputs": [],
   "source": []
  }
 ],
 "metadata": {
  "kernelspec": {
   "display_name": "Python 3",
   "language": "python",
   "name": "python3"
  },
  "language_info": {
   "codemirror_mode": {
    "name": "ipython",
    "version": 3
   },
   "file_extension": ".py",
   "mimetype": "text/x-python",
   "name": "python",
   "nbconvert_exporter": "python",
   "pygments_lexer": "ipython3",
   "version": "3.8.8"
  }
 },
 "nbformat": 4,
 "nbformat_minor": 1
}