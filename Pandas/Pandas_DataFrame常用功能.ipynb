{
 "cells": [
  {
   "cell_type": "code",
   "execution_count": 1,
   "id": "e6fb2139",
   "metadata": {},
   "outputs": [
    {
     "name": "stdout",
     "output_type": "stream",
     "text": [
      "          age address gender\n",
      "zhangsan   22      nj      f\n",
      "lishi      18      bj      m\n",
      "wangwu     20      nj      f\n",
      "zhaoliu    21      sh      m\n",
      "wanger     25      bj      f\n",
      "********************\n"
     ]
    }
   ],
   "source": [
    "import numpy as np\n",
    "import  pandas as pd\n",
    "\n",
    "# 定义索引信息\n",
    "index = pd.Index(data=[\"zhangsan\",\"lishi\",\"wangwu\",\"zhaoliu\",\"wanger\"])\n",
    "data = {\n",
    "    \"age\":[22,18,20,21,25],\n",
    "    \"address\":[\"nj\",\"bj\",\"nj\",\"sh\",\"bj\"]\n",
    "}\n",
    "# 构建DataFrame1:数据完整，提供索引\n",
    "base_info = pd.DataFrame(data=data,index=index)\n",
    "base_info['gender'] = ['f','m','f','m','f']\n",
    "print(base_info)\n",
    "print('*'*20)\n"
   ]
  },
  {
   "cell_type": "code",
   "execution_count": 2,
   "id": "135e287a",
   "metadata": {},
   "outputs": [
    {
     "name": "stdout",
     "output_type": "stream",
     "text": [
      "<class 'pandas.core.frame.DataFrame'>\n",
      "Index: 5 entries, zhangsan to wanger\n",
      "Data columns (total 3 columns):\n",
      " #   Column   Non-Null Count  Dtype \n",
      "---  ------   --------------  ----- \n",
      " 0   age      5 non-null      int64 \n",
      " 1   address  5 non-null      object\n",
      " 2   gender   5 non-null      object\n",
      "dtypes: int64(1), object(2)\n",
      "memory usage: 160.0+ bytes\n"
     ]
    }
   ],
   "source": [
    "base_info.info()"
   ]
  },
  {
   "cell_type": "code",
   "execution_count": 3,
   "id": "54431306",
   "metadata": {},
   "outputs": [
    {
     "name": "stdout",
     "output_type": "stream",
     "text": [
      "          age address gender\n",
      "zhangsan   22      nj      f\n",
      "lishi      18      bj      m\n",
      "wangwu     20      nj      f\n"
     ]
    }
   ],
   "source": [
    "print(base_info.head(3))"
   ]
  },
  {
   "cell_type": "code",
   "execution_count": 4,
   "id": "857bb3db",
   "metadata": {},
   "outputs": [
    {
     "name": "stdout",
     "output_type": "stream",
     "text": [
      "         age address gender\n",
      "wangwu    20      nj      f\n",
      "zhaoliu   21      sh      m\n",
      "wanger    25      bj      f\n"
     ]
    }
   ],
   "source": [
    "print(base_info.tail(3))"
   ]
  },
  {
   "cell_type": "code",
   "execution_count": 6,
   "id": "0d790e92",
   "metadata": {},
   "outputs": [
    {
     "name": "stdout",
     "output_type": "stream",
     "text": [
      "5 3\n"
     ]
    }
   ],
   "source": [
    "row, col = base_info.shape\n",
    "print(row, col)"
   ]
  },
  {
   "cell_type": "code",
   "execution_count": 8,
   "id": "83699d5d",
   "metadata": {},
   "outputs": [
    {
     "name": "stdout",
     "output_type": "stream",
     "text": [
      "[[22 'nj' 'f']\n",
      " [18 'bj' 'm']\n",
      " [20 'nj' 'f']\n",
      " [21 'sh' 'm']\n",
      " [25 'bj' 'f']]\n",
      "zhangsan    22\n",
      "lishi       18\n",
      "wangwu      20\n",
      "zhaoliu     21\n",
      "wanger      25\n",
      "Name: age, dtype: int64\n",
      "25\n"
     ]
    }
   ],
   "source": [
    "print(base_info.values)\n",
    "print(base_info['age'])\n",
    "print(base_info['age'].max())"
   ]
  },
  {
   "cell_type": "code",
   "execution_count": 9,
   "id": "4c3f79a7",
   "metadata": {},
   "outputs": [
    {
     "name": "stdout",
     "output_type": "stream",
     "text": [
      "18\n",
      "21.2\n",
      "106\n"
     ]
    }
   ],
   "source": [
    "print(base_info['age'].min())\n",
    "print(base_info['age'].mean())\n",
    "print(base_info['age'].sum())\n"
   ]
  },
  {
   "cell_type": "code",
   "execution_count": 10,
   "id": "585ded1b",
   "metadata": {
    "scrolled": true
   },
   "outputs": [
    {
     "name": "stdout",
     "output_type": "stream",
     "text": [
      "zhangsan     22\n",
      "lishi        40\n",
      "wangwu       60\n",
      "zhaoliu      81\n",
      "wanger      106\n",
      "Name: age, dtype: int64\n"
     ]
    }
   ],
   "source": [
    "# 相当于是Scala中的leftReduce,保存中间步骤，从左向右累加\n",
    "print(base_info['age'].cumsum())\n"
   ]
  },
  {
   "cell_type": "code",
   "execution_count": 11,
   "id": "9cc45f9a",
   "metadata": {},
   "outputs": [
    {
     "name": "stdout",
     "output_type": "stream",
     "text": [
      "             age\n",
      "count   5.000000\n",
      "mean   21.200000\n",
      "std     2.588436\n",
      "min    18.000000\n",
      "25%    20.000000\n",
      "50%    21.000000\n",
      "75%    22.000000\n",
      "max    25.000000\n",
      "count      5\n",
      "unique     3\n",
      "top       nj\n",
      "freq       2\n",
      "Name: address, dtype: object\n"
     ]
    }
   ],
   "source": [
    "# 全面的统计指标\n",
    "print(base_info.describe())\n",
    "print(base_info['address'].describe(include=[object]))\n"
   ]
  },
  {
   "cell_type": "code",
   "execution_count": 12,
   "id": "a2e0cc61",
   "metadata": {},
   "outputs": [
    {
     "name": "stdout",
     "output_type": "stream",
     "text": [
      "wanger\n"
     ]
    }
   ],
   "source": [
    "# 最大值索引\n",
    "print(base_info['age'].idxmax())\n"
   ]
  },
  {
   "cell_type": "code",
   "execution_count": 13,
   "id": "4a71de37",
   "metadata": {},
   "outputs": [
    {
     "name": "stdout",
     "output_type": "stream",
     "text": [
      "zhangsan    (20.333, 22.667]\n",
      "lishi       (17.993, 20.333]\n",
      "wangwu      (17.993, 20.333]\n",
      "zhaoliu     (20.333, 22.667]\n",
      "wanger        (22.667, 25.0]\n",
      "Name: age, dtype: category\n",
      "Categories (3, interval[float64]): [(17.993, 20.333] < (20.333, 22.667] < (22.667, 25.0]]\n"
     ]
    }
   ],
   "source": [
    "# 离散化：分桶（hive），也就是分成多个区间\n",
    "# 等距\n",
    "print(pd.cut(base_info['age'],3))\n"
   ]
  },
  {
   "cell_type": "code",
   "execution_count": 14,
   "id": "535640ce",
   "metadata": {},
   "outputs": [
    {
     "name": "stdout",
     "output_type": "stream",
     "text": [
      "zhangsan    (19, 24]\n",
      "lishi        (1, 19]\n",
      "wangwu      (19, 24]\n",
      "zhaoliu     (19, 24]\n",
      "wanger      (24, 30]\n",
      "Name: age, dtype: category\n",
      "Categories (3, interval[int64]): [(1, 19] < (19, 24] < (24, 30]]\n"
     ]
    }
   ],
   "source": [
    "# 手动区间\n",
    "print(pd.cut(base_info['age'],[1,19,24,30]))\n"
   ]
  },
  {
   "cell_type": "code",
   "execution_count": 15,
   "id": "0f78917a",
   "metadata": {},
   "outputs": [
    {
     "name": "stdout",
     "output_type": "stream",
     "text": [
      "zhangsan    中\n",
      "lishi       小\n",
      "wangwu      中\n",
      "zhaoliu     中\n",
      "wanger      大\n",
      "Name: age, dtype: category\n",
      "Categories (3, object): ['小' < '中' < '大']\n"
     ]
    }
   ],
   "source": [
    "print(pd.cut(base_info['age'],[1,19,24,30],labels=[\"小\",\"中\",\"大\"]))"
   ]
  },
  {
   "cell_type": "code",
   "execution_count": 16,
   "id": "475d1fd0",
   "metadata": {},
   "outputs": [
    {
     "name": "stdout",
     "output_type": "stream",
     "text": [
      "zhangsan      (21.667, 25.0]\n",
      "lishi       (17.999, 20.333]\n",
      "wangwu      (17.999, 20.333]\n",
      "zhaoliu     (20.333, 21.667]\n",
      "wanger        (21.667, 25.0]\n",
      "Name: age, dtype: category\n",
      "Categories (3, interval[float64]): [(17.999, 20.333] < (20.333, 21.667] < (21.667, 25.0]]\n"
     ]
    }
   ],
   "source": [
    "# 频次:修改年龄的值\n",
    "print(pd.qcut(base_info['age'],3))\n"
   ]
  },
  {
   "cell_type": "code",
   "execution_count": 17,
   "id": "8f86c732",
   "metadata": {},
   "outputs": [
    {
     "name": "stdout",
     "output_type": "stream",
     "text": [
      "          age address gender\n",
      "lishi      18      bj      m\n",
      "wanger     25      bj      f\n",
      "wangwu     20      nj      f\n",
      "zhangsan   22      nj      f\n",
      "zhaoliu    21      sh      m\n",
      "          age address gender\n",
      "zhaoliu    21      sh      m\n",
      "zhangsan   22      nj      f\n",
      "wangwu     20      nj      f\n",
      "wanger     25      bj      f\n",
      "lishi      18      bj      m\n"
     ]
    }
   ],
   "source": [
    "# 排序：汉字不可靠，按轴（索引，列）\n",
    "print(base_info.sort_index())\n",
    "print(base_info.sort_index(ascending=False))\n"
   ]
  },
  {
   "cell_type": "code",
   "execution_count": 18,
   "id": "30926bc1",
   "metadata": {},
   "outputs": [
    {
     "name": "stdout",
     "output_type": "stream",
     "text": [
      "         address  age gender\n",
      "zhangsan      nj   22      f\n",
      "lishi         bj   18      m\n",
      "wangwu        nj   20      f\n",
      "zhaoliu       sh   21      m\n",
      "wanger        bj   25      f\n"
     ]
    }
   ],
   "source": [
    "# 按轴排序，简单说按列名排序\n",
    "print(base_info.sort_index(axis=1))\n"
   ]
  },
  {
   "cell_type": "code",
   "execution_count": 19,
   "id": "a062bec0",
   "metadata": {},
   "outputs": [
    {
     "name": "stdout",
     "output_type": "stream",
     "text": [
      "          age address gender\n",
      "lishi      18      bj      m\n",
      "wangwu     20      nj      f\n",
      "zhaoliu    21      sh      m\n",
      "zhangsan   22      nj      f\n",
      "wanger     25      bj      f\n",
      "          age address gender\n",
      "lishi      18      bj      m\n",
      "wangwu     20      nj      f\n",
      "zhaoliu    21      sh      m\n",
      "zhangsan   22      nj      f\n",
      "wanger     25      bj      f\n"
     ]
    }
   ],
   "source": [
    "# 按列的值进行排序\n",
    "print(base_info.sort_values(by=\"age\"))\n",
    "print(base_info.sort_values(by=[\"age\",\"address\"]))\n"
   ]
  },
  {
   "cell_type": "code",
   "execution_count": null,
   "id": "a34796dd",
   "metadata": {},
   "outputs": [],
   "source": []
  }
 ],
 "metadata": {
  "kernelspec": {
   "display_name": "PyCharm (test1)",
   "language": "python",
   "name": "pycharm-86e388bf"
  },
  "language_info": {
   "codemirror_mode": {
    "name": "ipython",
    "version": 3
   },
   "file_extension": ".py",
   "mimetype": "text/x-python",
   "name": "python",
   "nbconvert_exporter": "python",
   "pygments_lexer": "ipython3",
   "version": "3.8.8"
  }
 },
 "nbformat": 4,
 "nbformat_minor": 5
}
