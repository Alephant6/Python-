{
 "cells": [
  {
   "cell_type": "code",
   "execution_count": 2,
   "id": "4f9e76f0",
   "metadata": {},
   "outputs": [],
   "source": [
    "# -*- encoding: utf-8 -*-\n",
    "import numpy as np\n",
    "import  pandas as pd\n"
   ]
  },
  {
   "cell_type": "code",
   "execution_count": 3,
   "id": "b55c04c6",
   "metadata": {},
   "outputs": [
    {
     "name": "stdout",
     "output_type": "stream",
     "text": [
      "0    22\n",
      "1    18\n",
      "2    20\n",
      "3    21\n",
      "4    25\n",
      "dtype: int64\n"
     ]
    }
   ],
   "source": [
    "# 定义存储\n",
    "age_list = pd.Series(data=[22,18,20,21,25])\n",
    "print(age_list)"
   ]
  },
  {
   "cell_type": "code",
   "execution_count": 4,
   "id": "e10cc077",
   "metadata": {},
   "outputs": [
    {
     "name": "stdout",
     "output_type": "stream",
     "text": [
      "zhangsan    22\n",
      "lishi       18\n",
      "wangwu      20\n",
      "zhaoliu     21\n",
      "wanger      25\n",
      "dtype: int64\n"
     ]
    }
   ],
   "source": [
    "\n",
    "# 定义索引\n",
    "age_list.index = [\"zhangsan\",\"lishi\",\"wangwu\",\"zhaoliu\",\"wanger\"]\n",
    "print(age_list)\n"
   ]
  },
  {
   "cell_type": "code",
   "execution_count": null,
   "id": "86d36a1e",
   "metadata": {},
   "outputs": [],
   "source": [
    "age_list.name = 'info'\n",
    "print(age_list)"
   ]
  },
  {
   "cell_type": "code",
   "execution_count": null,
   "id": "8459faa1",
   "metadata": {},
   "outputs": [],
   "source": []
  }
 ],
 "metadata": {
  "kernelspec": {
   "display_name": "Python 3 (ipykernel)",
   "language": "python",
   "name": "python3"
  },
  "language_info": {
   "codemirror_mode": {
    "name": "ipython",
    "version": 3
   },
   "file_extension": ".py",
   "mimetype": "text/x-python",
   "name": "python",
   "nbconvert_exporter": "python",
   "pygments_lexer": "ipython3",
   "version": "3.9.10+"
  }
 },
 "nbformat": 4,
 "nbformat_minor": 5
}
