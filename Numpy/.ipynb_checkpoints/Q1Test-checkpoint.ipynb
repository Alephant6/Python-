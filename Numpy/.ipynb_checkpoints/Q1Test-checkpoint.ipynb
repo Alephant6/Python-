{
 "cells": [
  {
   "cell_type": "code",
   "execution_count": 1,
   "id": "27dc392c",
   "metadata": {},
   "outputs": [],
   "source": [
    "import numpy as np"
   ]
  },
  {
   "cell_type": "code",
   "execution_count": 2,
   "id": "fe34b043",
   "metadata": {},
   "outputs": [],
   "source": [
    "class Cell(object):\n",
    "    ''' \n",
    "    creat class Cell 定义一个格点的类\n",
    "    '''\n",
    "    nest = False\n",
    "    T = 1\n",
    "    \n",
    "    def __init__(self, x, y):\n",
    "        self.x = x\n",
    "        self.y = y\n",
    "    \n",
    "    def __str__(self):\n",
    "        return \"(%d, %d)\" %(self.x, self.y)\n",
    "    \n",
    "    def print(self):\n",
    "        print(f\"coordinate: ({self.x}, {self.y}), nest: {self.nest}, T: {self.T}\")\n",
    "        \n",
    "    def setNest(self):\n",
    "        self.nest = True\n",
    "        self.T = 0\n",
    "        \n",
    "    def array(self):\n",
    "        return np.array([self.x, self.y])\n",
    "    \n",
    "    def distance(self, cell):\n",
    "        return np.sqrt((self.x-cell.x)**2 + (self.y-cell.y)**2)\n",
    "        "
   ]
  },
  {
   "cell_type": "code",
   "execution_count": 3,
   "id": "d1a156d3",
   "metadata": {},
   "outputs": [],
   "source": [
    "class EntireSet(list):\n",
    "    \n",
    "    def __init__(self, lenOfX, lenOfY):\n",
    "        list.__init__([])\n",
    "        self.lenOfX = lenOfX\n",
    "        self.lenOfY = lenOfY\n",
    "        for i in range(lenOfX):\n",
    "            for j in range(lenOfY):\n",
    "                self.append(Cell(i, j))\n",
    "    \n",
    "    def dim(self, x, y):\n",
    "        if x < self.lenOfX and y < self.lenOfY:\n",
    "            return self[x*self.lenOfY + y]\n",
    "        else:\n",
    "            print(\"Out of range!\")\n",
    "    \n",
    "        \n",
    "        "
   ]
  },
  {
   "cell_type": "code",
   "execution_count": 4,
   "id": "268f34a5",
   "metadata": {},
   "outputs": [],
   "source": [
    "def IdentifyCell(entireSet):\n",
    "    '''\n",
    "    区分nest和cell\n",
    "    '''\n",
    "    setOfNest, setOfCell = [], []\n",
    "    for i in range(len(entireSet)):\n",
    "        if entireSet[i].nest == True:\n",
    "            setOfNest.append(entireSet[i])\n",
    "        else:\n",
    "            setOfCell.append(entireSet[i])\n",
    "    return setOfNest, setOfCell"
   ]
  },
  {
   "cell_type": "code",
   "execution_count": 5,
   "id": "0bc9e27e",
   "metadata": {},
   "outputs": [],
   "source": [
    "def CalDelta(setOfNest, setOfCell):\n",
    "    '''\n",
    "    计算每个nest到cell的距离\n",
    "    '''\n",
    "    lenN = len(setOfNest)\n",
    "    lenC = len(setOfCell)\n",
    "    Delta = np.zeros((lenN, lenC))\n",
    "    for i in range(lenN):\n",
    "        for j in range(lenC):\n",
    "            Delta[i][j] = setOfNest[i].distance(setOfCell[j])\n",
    "    return Delta"
   ]
  },
  {
   "cell_type": "code",
   "execution_count": 6,
   "id": "202a1360",
   "metadata": {},
   "outputs": [],
   "source": [
    "def CalC(Delta): \n",
    "    '''\n",
    "    计算每个nest的竞争系数C\n",
    "    '''\n",
    "    C = np.exp(-Delta ** 2 / (2 * sigmac ** 2))\n",
    "    CNest = np.sum(C, axis=1)\n",
    "    return CNest"
   ]
  },
  {
   "cell_type": "code",
   "execution_count": 7,
   "id": "0d613141",
   "metadata": {},
   "outputs": [],
   "source": [
    "def CalT(setOfNest):\n",
    "    T = np.ones(lenC)\n",
    "    for i in setOfNest:\n",
    "        if i.nest == True:\n",
    "            T[i.x*lenOfY+i.y] = 0\n",
    "    return T\n",
    "        "
   ]
  },
  {
   "cell_type": "code",
   "execution_count": 8,
   "id": "10547b4a",
   "metadata": {},
   "outputs": [],
   "source": [
    "def CalE(Delta):\n",
    "    '''\n",
    "    计算每个nest的环境友好指数E\n",
    "    '''\n",
    "    E = np.exp(-Delta ** 2 / (2 * sigmac ** 2)) * T\n",
    "    ENest = np.sum(E, axis=1) \n",
    "    return ENest "
   ]
  },
  {
   "cell_type": "code",
   "execution_count": 9,
   "id": "62109e86",
   "metadata": {},
   "outputs": [],
   "source": [
    "lenOfX, lenOfY = 5, 3\n",
    "entireSet = EntireSet(lenOfX, lenOfY)\n",
    "\n",
    "r = 0.3\n",
    "gamma = 0.3\n",
    "N0 = 200\n",
    "T_total = 3\n",
    "sigmac = 2\n",
    "\n",
    "# 初始化nest\n",
    "entireSet.dim(0,1).setNest()\n",
    "\n",
    "setOfNest, setOfCell = IdentifyCell(entireSet)\n",
    "\n",
    "lenN = len(setOfNest)\n",
    "lenC = len(setOfCell)"
   ]
  },
  {
   "cell_type": "code",
   "execution_count": 10,
   "id": "edf36609",
   "metadata": {},
   "outputs": [
    {
     "ename": "ValueError",
     "evalue": "operands could not be broadcast together with shapes (1,14) (5,3) ",
     "output_type": "error",
     "traceback": [
      "\u001b[1;31m---------------------------------------------------------------------------\u001b[0m",
      "\u001b[1;31mValueError\u001b[0m                                Traceback (most recent call last)",
      "\u001b[1;32m<ipython-input-10-5f4ff6b84ad2>\u001b[0m in \u001b[0;36m<module>\u001b[1;34m\u001b[0m\n\u001b[0;32m      2\u001b[0m \u001b[0mCNest\u001b[0m \u001b[1;33m=\u001b[0m \u001b[0mCalC\u001b[0m\u001b[1;33m(\u001b[0m\u001b[0mDelta\u001b[0m\u001b[1;33m)\u001b[0m\u001b[1;33m\u001b[0m\u001b[1;33m\u001b[0m\u001b[0m\n\u001b[0;32m      3\u001b[0m \u001b[0mT\u001b[0m \u001b[1;33m=\u001b[0m \u001b[0mCalT\u001b[0m\u001b[1;33m(\u001b[0m\u001b[0msetOfNest\u001b[0m\u001b[1;33m)\u001b[0m\u001b[1;33m\u001b[0m\u001b[1;33m\u001b[0m\u001b[0m\n\u001b[1;32m----> 4\u001b[1;33m \u001b[0mENest\u001b[0m \u001b[1;33m=\u001b[0m \u001b[0mCalE\u001b[0m\u001b[1;33m(\u001b[0m\u001b[0mDelta\u001b[0m\u001b[1;33m)\u001b[0m\u001b[1;33m\u001b[0m\u001b[1;33m\u001b[0m\u001b[0m\n\u001b[0m",
      "\u001b[1;32m<ipython-input-8-9c40e2cf9350>\u001b[0m in \u001b[0;36mCalE\u001b[1;34m(Delta)\u001b[0m\n\u001b[0;32m      3\u001b[0m     \u001b[0m计算每个nest的环境友好指数E\u001b[0m\u001b[1;33m\u001b[0m\u001b[1;33m\u001b[0m\u001b[0m\n\u001b[0;32m      4\u001b[0m     '''\n\u001b[1;32m----> 5\u001b[1;33m     \u001b[0mE\u001b[0m \u001b[1;33m=\u001b[0m \u001b[0mnp\u001b[0m\u001b[1;33m.\u001b[0m\u001b[0mexp\u001b[0m\u001b[1;33m(\u001b[0m\u001b[1;33m-\u001b[0m\u001b[0mDelta\u001b[0m \u001b[1;33m**\u001b[0m \u001b[1;36m2\u001b[0m \u001b[1;33m/\u001b[0m \u001b[1;33m(\u001b[0m\u001b[1;36m2\u001b[0m \u001b[1;33m*\u001b[0m \u001b[0msigmac\u001b[0m \u001b[1;33m**\u001b[0m \u001b[1;36m2\u001b[0m\u001b[1;33m)\u001b[0m\u001b[1;33m)\u001b[0m \u001b[1;33m*\u001b[0m \u001b[0mT\u001b[0m\u001b[1;33m\u001b[0m\u001b[1;33m\u001b[0m\u001b[0m\n\u001b[0m\u001b[0;32m      6\u001b[0m     \u001b[0mENest\u001b[0m \u001b[1;33m=\u001b[0m \u001b[0mnp\u001b[0m\u001b[1;33m.\u001b[0m\u001b[0msum\u001b[0m\u001b[1;33m(\u001b[0m\u001b[0mE\u001b[0m\u001b[1;33m,\u001b[0m \u001b[0maxis\u001b[0m\u001b[1;33m=\u001b[0m\u001b[1;36m1\u001b[0m\u001b[1;33m)\u001b[0m\u001b[1;33m\u001b[0m\u001b[1;33m\u001b[0m\u001b[0m\n\u001b[0;32m      7\u001b[0m     \u001b[1;32mreturn\u001b[0m \u001b[0mENest\u001b[0m\u001b[1;33m\u001b[0m\u001b[1;33m\u001b[0m\u001b[0m\n",
      "\u001b[1;31mValueError\u001b[0m: operands could not be broadcast together with shapes (1,14) (5,3) "
     ]
    }
   ],
   "source": [
    "Delta = CalDelta(setOfNest, setOfCell)\n",
    "CNest = CalC(Delta)\n",
    "T = CalT(setOfNest)\n",
    "ENest = CalE(Delta)"
   ]
  },
  {
   "cell_type": "code",
   "execution_count": 15,
   "id": "fadb0efd",
   "metadata": {},
   "outputs": [
    {
     "name": "stdout",
     "output_type": "stream",
     "text": [
      "[[1. 0. 1.]\n",
      " [1. 1. 1.]\n",
      " [1. 1. 1.]\n",
      " [1. 1. 1.]\n",
      " [1. 1. 1.]]\n",
      "[[1.         1.         1.41421356 1.         1.41421356 2.23606798\n",
      "  2.         2.23606798 3.16227766 3.         3.16227766 4.12310563\n",
      "  4.         4.12310563]]\n"
     ]
    }
   ],
   "source": [
    "print(T)\n",
    "print(Delta)"
   ]
  },
  {
   "cell_type": "code",
   "execution_count": null,
   "id": "ab2fc7ca",
   "metadata": {},
   "outputs": [],
   "source": []
  }
 ],
 "metadata": {
  "kernelspec": {
   "display_name": "PyCharm (test1)",
   "language": "python",
   "name": "pycharm-86e388bf"
  },
  "language_info": {
   "codemirror_mode": {
    "name": "ipython",
    "version": 3
   },
   "file_extension": ".py",
   "mimetype": "text/x-python",
   "name": "python",
   "nbconvert_exporter": "python",
   "pygments_lexer": "ipython3",
   "version": "3.8.8"
  }
 },
 "nbformat": 4,
 "nbformat_minor": 5
}
