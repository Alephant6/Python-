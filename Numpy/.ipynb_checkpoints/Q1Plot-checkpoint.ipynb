{
 "cells": [
  {
   "cell_type": "code",
   "execution_count": 13,
   "id": "386de84d",
   "metadata": {},
   "outputs": [
    {
     "name": "stderr",
     "output_type": "stream",
     "text": [
      "C:\\Users\\Alephant\\anaconda3\\lib\\site-packages\\scipy\\optimize\\minpack.py:828: OptimizeWarning: Covariance of the parameters could not be estimated\n",
      "  warnings.warn('Covariance of the parameters could not be estimated',\n"
     ]
    },
    {
     "name": "stdout",
     "output_type": "stream",
     "text": [
      "K:capacity  P0:initial_value   r:increase_rate   t:time\n",
      "[7.62424358e+02 2.70793008e-01 1.00000000e+00]\n",
      "0.0\n",
      "0.0\n"
     ]
    },
    {
     "data": {
      "image/png": "[encoded data removed]",
      "text/plain": [
       "<Figure size 720x288 with 1 Axes>"
      ]
     },
     "metadata": {
      "needs_background": "light"
     },
     "output_type": "display_data"
    },
    {
     "name": "stdout",
     "output_type": "stream",
     "text": [
      "Program done!\n"
     ]
    }
   ],
   "source": [
    "import numpy as np\n",
    "import matplotlib.pyplot as plt\n",
    "import math\n",
    "import pandas as pd\n",
    " \n",
    "import numpy as np\n",
    "import matplotlib.pyplot as plt\n",
    "from scipy.optimize import curve_fit\n",
    " \n",
    "def logistic_increase_function(t,K,P0,r):\n",
    "    t0=11+2009\n",
    "    r=0.65\n",
    " #   r = 0.55\n",
    "    # t:time   t0:initial time    P0:initial_value    K:capacity  r:increase_rate\n",
    "    exp_value=np.exp(r*(t-t0))\n",
    "    return (K*exp_value*P0)/(K+(exp_value-1)*P0)\n",
    " \n",
    "\n",
    " \n",
    "# 时间以及拟合数据\n",
    "t=[11,16,19,20 ,21, 22, 23, 24,  25,  26]\n",
    "# t = range(2020,2031)\n",
    "t=np.array(t)+2009\n",
    "P=[3, 6, 32, 53, 96, 205, 407, 486, 633, 600]\n",
    "P=np.array(P)\n",
    " \n",
    "# 用最小二乘法估计拟合\n",
    "popt, pcov = curve_fit(logistic_increase_function, t, P)\n",
    "#获取popt里面是拟合系数\n",
    "print(\"K:capacity  P0:initial_value   r:increase_rate   t:time\")\n",
    "print(popt)\n",
    "#拟合后预测的P值\n",
    "P_predict = logistic_increase_function(t,popt[0],popt[1],popt[2])\n",
    "#未来预测\n",
    "future=[11,16,19,20 ,21, 22, 23, 24,  25,  26]\n",
    "# future=range(2020,2031)\n",
    "future=np.array(future)+2009\n",
    "future_predict=logistic_increase_function(future,popt[0],popt[1],popt[2])\n",
    " \n",
    "#绘图\n",
    "plt.figure(figsize=(10,4))\n",
    "plot1 = plt.plot(t, P, 'o',label=\"Ground Truths\")\n",
    "plot2 = plt.plot(t, P_predict, 'r',label='Fitted Curve')\n",
    "plt.xlabel('Year')\n",
    "plt.ylabel('Number of Nests')\n",
    " \n",
    "plt.legend(loc=0) #指定legend的位置右下角\n",
    "\n",
    "print(logistic_increase_function(np.array(28),popt[0],popt[1],popt[2]))\n",
    "print(logistic_increase_function(np.array(29),popt[0],popt[1],popt[2]))\n",
    "\n",
    "plt.savefig('./Fitted logistic growth curve with predicted values.jpg', dpi=100)\n",
    "\n",
    "plt.show()\n",
    "\n",
    " \n",
    " \n",
    "print(\"Program done!\")"
   ]
  },
  {
   "cell_type": "code",
   "execution_count": 12,
   "id": "58486401",
   "metadata": {},
   "outputs": [
    {
     "name": "stdout",
     "output_type": "stream",
     "text": [
      "[2020, 2021, 2022, 2023, 2024, 2025, 2026, 2027, 2028, 2029, 2030]\n"
     ]
    }
   ],
   "source": [
    "print([i for i in range(2020,2031)])\n"
   ]
  },
  {
   "cell_type": "code",
   "execution_count": 18,
   "id": "b4fa495e",
   "metadata": {},
   "outputs": [
    {
     "data": {
      "text/plain": [
       "[11, 18, 19, 20, 21, 22, 23, 24, 25, 26, 1, 1, 1, 1, 1, 1, 1, 1, 1, 1]"
      ]
     },
     "execution_count": 18,
     "metadata": {},
     "output_type": "execute_result"
    }
   ],
   "source": [
    "\n"
   ]
  },
  {
   "cell_type": "code",
   "execution_count": null,
   "id": "854b60e4",
   "metadata": {},
   "outputs": [],
   "source": []
  }
 ],
 "metadata": {
  "kernelspec": {
   "display_name": "PyCharm (test1)",
   "language": "python",
   "name": "pycharm-86e388bf"
  },
  "language_info": {
   "codemirror_mode": {
    "name": "ipython",
    "version": 3
   },
   "file_extension": ".py",
   "mimetype": "text/x-python",
   "name": "python",
   "nbconvert_exporter": "python",
   "pygments_lexer": "ipython3",
   "version": "3.8.8"
  }
 },
 "nbformat": 4,
 "nbformat_minor": 5
}
