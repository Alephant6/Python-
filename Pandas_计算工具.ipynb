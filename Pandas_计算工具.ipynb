{
 "cells": [
  {
   "cell_type": "code",
   "execution_count": 1,
   "id": "2f8d19ac",
   "metadata": {},
   "outputs": [
    {
     "name": "stdout",
     "output_type": "stream",
     "text": [
      "           age address  salary gender\n",
      "zhangsan  22.0      nj  2200.0      f\n",
      "lishi     17.0    None  1700.0      m\n",
      "wangwu     NaN      nj  1600.0      f\n",
      "zhaoliu   16.0      sh     NaN      m\n",
      "wanger    25.0      bj  2500.0      f\n",
      "************************************************************\n"
     ]
    }
   ],
   "source": [
    "# -*- encoding: utf-8 -*-\n",
    "import numpy as np\n",
    "import pandas as pd\n",
    "\n",
    "# 定义索引信息\n",
    "index = pd.Index(data=[\"zhangsan\", \"lishi\", \"wangwu\", \"zhaoliu\", \"wanger\"])\n",
    "data = {\n",
    "    \"age\": [22, 17, np.nan, 16, 25],\n",
    "    \"address\": [\"nj\", None, \"nj\", \"sh\", \"bj\"],\n",
    "    \"salary\": [2200, 1700, 1600, np.nan, 2500],\n",
    "}\n",
    "# 构建DataFrame1:数据完整，提供索引\n",
    "base_info = pd.DataFrame(data=data, index=index)\n",
    "base_info['gender'] = ['f', 'm', 'f', 'm', 'f']\n",
    "print(base_info)\n",
    "print('*' * 60)\n"
   ]
  },
  {
   "cell_type": "code",
   "execution_count": 2,
   "id": "7aded4c6",
   "metadata": {},
   "outputs": [
    {
     "name": "stdout",
     "output_type": "stream",
     "text": [
      "1633.3333333333333\n"
     ]
    }
   ],
   "source": [
    "# 统计函数：具体公式参考《概数》\n",
    "# 年龄与收入协方差\n",
    "print(base_info[\"age\"].cov(base_info[\"salary\"]))\n"
   ]
  },
  {
   "cell_type": "code",
   "execution_count": 3,
   "id": "9bb2f4a8",
   "metadata": {},
   "outputs": [
    {
     "name": "stdout",
     "output_type": "stream",
     "text": [
      "zhangsan    3.0\n",
      "lishi       2.0\n",
      "wangwu      1.0\n",
      "zhaoliu     NaN\n",
      "wanger      4.0\n",
      "Name: salary, dtype: float64\n",
      "zhangsan    3.0\n",
      "lishi       2.0\n",
      "wangwu      1.0\n",
      "zhaoliu     NaN\n",
      "wanger      4.0\n",
      "Name: salary, dtype: float64\n"
     ]
    }
   ],
   "source": [
    "# 排名\n",
    "print(base_info[\"salary\"].rank())\n",
    "print(base_info[\"salary\"].rank(method=\"first\"))\n"
   ]
  },
  {
   "cell_type": "code",
   "execution_count": 4,
   "id": "abee5a7b",
   "metadata": {},
   "outputs": [
    {
     "name": "stdout",
     "output_type": "stream",
     "text": [
      "   turnover       date\n",
      "0   12000.0 2018-07-01\n",
      "1   18000.0 2018-07-02\n",
      "2       NaN 2018-07-03\n",
      "3   12000.0 2018-07-04\n",
      "4    9000.0 2018-07-05\n",
      "5   16000.0 2018-07-06\n",
      "6   18000.0 2018-07-07\n",
      "************************************************************\n"
     ]
    }
   ],
   "source": [
    "data = {\n",
    "    \"turnover\": [12000, 18000, np.nan, 12000, 9000, 16000, 18000],\n",
    "    \"date\": pd.date_range(\"2018-07-01\", periods=7)\n",
    "}\n",
    "df2 = pd.DataFrame(data=data)\n",
    "print(df2)\n",
    "print('*' * 60)\n"
   ]
  },
  {
   "cell_type": "code",
   "execution_count": 5,
   "id": "18ff5b01",
   "metadata": {},
   "outputs": [
    {
     "name": "stdout",
     "output_type": "stream",
     "text": [
      "   turnover       date\n",
      "0   12000.0 2018-07-01\n",
      "1   30000.0 2018-07-02\n",
      "2   18000.0 2018-07-03\n",
      "3   12000.0 2018-07-04\n",
      "4   21000.0 2018-07-05\n",
      "5   25000.0 2018-07-06\n",
      "6   34000.0 2018-07-07\n"
     ]
    }
   ],
   "source": [
    "# 解决缺失值:丢失、填充，min_periods参数指定遇到缺失值时取非缺失值数据的最少的行数\n",
    "print(df2.rolling(window=2, on=\"date\", min_periods=1).sum())\n"
   ]
  },
  {
   "cell_type": "code",
   "execution_count": 6,
   "id": "ae2bcd8e",
   "metadata": {},
   "outputs": [
    {
     "name": "stdout",
     "output_type": "stream",
     "text": [
      "7\n",
      "   turnover       date\n",
      "0   12000.0 2018-07-01\n",
      "1   30000.0 2018-07-02\n",
      "2   30000.0 2018-07-03\n",
      "3   42000.0 2018-07-04\n",
      "4   51000.0 2018-07-05\n",
      "5   67000.0 2018-07-06\n",
      "6   85000.0 2018-07-07\n",
      "0    12000.0\n",
      "1    30000.0\n",
      "2    30000.0\n",
      "3    42000.0\n",
      "4    51000.0\n",
      "5    67000.0\n",
      "6    85000.0\n",
      "Name: turnover, dtype: float64\n",
      "************************************************************\n"
     ]
    }
   ],
   "source": [
    "# 扩展，时间段的统计\n",
    "line = len(df2)\n",
    "print(line)\n",
    "print(df2.rolling(window=line, on=\"date\", min_periods=1).sum())\n",
    "# 另外一种形式，时间段的统计\n",
    "print(df2.expanding(min_periods=1)[\"turnover\"].sum())\n",
    "# rolling和expanding函数支持的统计函数：\n",
    "# count、sum、mean、min、max、std、var、skew、median……\n",
    "print('*' * 60)\n"
   ]
  },
  {
   "cell_type": "code",
   "execution_count": null,
   "id": "73384a99",
   "metadata": {},
   "outputs": [],
   "source": []
  }
 ],
 "metadata": {
  "kernelspec": {
   "display_name": "PyCharm (test1)",
   "language": "python",
   "name": "pycharm-86e388bf"
  },
  "language_info": {
   "codemirror_mode": {
    "name": "ipython",
    "version": 3
   },
   "file_extension": ".py",
   "mimetype": "text/x-python",
   "name": "python",
   "nbconvert_exporter": "python",
   "pygments_lexer": "ipython3",
   "version": "3.8.8"
  }
 },
 "nbformat": 4,
 "nbformat_minor": 5
}
