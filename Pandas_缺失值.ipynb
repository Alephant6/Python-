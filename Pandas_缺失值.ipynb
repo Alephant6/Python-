{
 "cells": [
  {
   "cell_type": "code",
   "execution_count": 1,
   "id": "48fb5ce1",
   "metadata": {},
   "outputs": [
    {
     "name": "stdout",
     "output_type": "stream",
     "text": [
      "           age address gender\n",
      "zhangsan  22.0      nj      f\n",
      "lishi     17.0    None      m\n",
      "wangwu     NaN      nj      f\n",
      "zhaoliu   16.0      sh      m\n",
      "wanger    25.0      bj      f\n",
      "********************\n"
     ]
    }
   ],
   "source": [
    "import numpy as np\n",
    "import pandas as pd\n",
    "\n",
    "# 定义索引信息\n",
    "index = pd.Index(data=[\"zhangsan\", \"lishi\", \"wangwu\", \"zhaoliu\", \"wanger\"])\n",
    "data = {\n",
    "    \"age\": [22, 17, np.nan, 16, 25],\n",
    "    \"address\": [\"nj\", None, \"nj\", \"sh\", \"bj\"]\n",
    "}\n",
    "# 构建DataFrame1:数据完整，提供索引\n",
    "base_info = pd.DataFrame(data=data, index=index)\n",
    "base_info['gender'] = ['f', 'm', 'f', 'm', 'f']\n",
    "print(base_info)\n",
    "print('*' * 20)\n"
   ]
  },
  {
   "cell_type": "code",
   "execution_count": 2,
   "id": "137e5ea3",
   "metadata": {},
   "outputs": [
    {
     "name": "stdout",
     "output_type": "stream",
     "text": [
      "            age  address  gender\n",
      "zhangsan  False    False   False\n",
      "lishi     False     True   False\n",
      "wangwu     True    False   False\n",
      "zhaoliu   False    False   False\n",
      "wanger    False    False   False\n",
      "            age  address  gender\n",
      "zhangsan   True     True    True\n",
      "lishi      True    False    True\n",
      "wangwu    False     True    True\n",
      "zhaoliu    True     True    True\n",
      "wanger     True     True    True\n"
     ]
    }
   ],
   "source": [
    "# 缺失值处理\n",
    "# 字符串长度为0，变量未赋值，NaN，NaT,None理解为null值\n",
    "print(base_info.isnull())\n",
    "print(base_info.notnull())\n"
   ]
  },
  {
   "cell_type": "code",
   "execution_count": 4,
   "id": "f3567cd6",
   "metadata": {},
   "outputs": [
    {
     "name": "stdout",
     "output_type": "stream",
     "text": [
      "zhangsan    22.0\n",
      "lishi       17.0\n",
      "zhaoliu     16.0\n",
      "wanger      25.0\n",
      "Name: age, dtype: float64\n",
      "           age address gender\n",
      "zhangsan  22.0      nj      f\n",
      "zhaoliu   16.0      sh      m\n",
      "wanger    25.0      bj      f\n"
     ]
    }
   ],
   "source": [
    "# 丢弃\n",
    "print(base_info[\"age\"].dropna())\n",
    "# axis=0是轴，实际上是代表行的操作\n",
    "# 一行中只要有一个空值，就删除整行\n",
    "print(base_info.dropna(axis=0, how=\"any\"))\n"
   ]
  },
  {
   "cell_type": "code",
   "execution_count": 5,
   "id": "7b74ec01",
   "metadata": {},
   "outputs": [
    {
     "name": "stdout",
     "output_type": "stream",
     "text": [
      "           age address gender\n",
      "zhangsan  22.0      nj      f\n",
      "lishi     17.0    None      m\n",
      "wangwu     NaN      nj      f\n",
      "zhaoliu   16.0      sh      m\n",
      "wanger    25.0      bj      f\n"
     ]
    }
   ],
   "source": [
    "# 一行中所有列全部为空值，才能删除整行\n",
    "print(base_info.dropna(axis=0, how=\"all\"))\n"
   ]
  },
  {
   "cell_type": "code",
   "execution_count": 6,
   "id": "58528ebc",
   "metadata": {},
   "outputs": [
    {
     "name": "stdout",
     "output_type": "stream",
     "text": [
      "zhangsan    22.0\n",
      "lishi       17.0\n",
      "wangwu      17.0\n",
      "zhaoliu     16.0\n",
      "wanger      25.0\n",
      "Name: age, dtype: float64\n",
      "zhangsan    22.0\n",
      "lishi       17.0\n",
      "wangwu      16.0\n",
      "zhaoliu     16.0\n",
      "wanger      25.0\n",
      "Name: age, dtype: float64\n"
     ]
    }
   ],
   "source": [
    "# 前一个值，后一个值，填充\n",
    "print(base_info[\"age\"].fillna(method=\"ffill\"))\n",
    "print(base_info[\"age\"].fillna(method=\"bfill\"))\n"
   ]
  },
  {
   "cell_type": "code",
   "execution_count": 7,
   "id": "bfe38189",
   "metadata": {},
   "outputs": [
    {
     "name": "stdout",
     "output_type": "stream",
     "text": [
      "zhangsan    22.0\n",
      "lishi       17.0\n",
      "wangwu      16.5\n",
      "zhaoliu     16.0\n",
      "wanger      25.0\n",
      "Name: age, dtype: float64\n"
     ]
    }
   ],
   "source": [
    "# 线性差值\n",
    "print(base_info[\"age\"].interpolate())\n"
   ]
  },
  {
   "cell_type": "code",
   "execution_count": 8,
   "id": "069e7871",
   "metadata": {},
   "outputs": [
    {
     "name": "stdout",
     "output_type": "stream",
     "text": [
      "zhangsan    22.0\n",
      "lishi       17.0\n",
      "wangwu       NaN\n",
      "zhaoliu     16.0\n",
      "wanger      22.0\n",
      "Name: age, dtype: float64\n",
      "zhangsan    22.0\n",
      "lishi       17.0\n",
      "wangwu       NaN\n",
      "zhaoliu     16.0\n",
      "wanger      22.0\n",
      "Name: age, dtype: float64\n"
     ]
    }
   ],
   "source": [
    "# 替换缺失值：将无效值替换成有效值\n",
    "# 假设年龄25不合理，替换成22\n",
    "print(base_info[\"age\"].replace(25, 22))\n",
    "# 同时替换多个值\n",
    "print(base_info[\"age\"].replace({25: 22}))\n"
   ]
  },
  {
   "cell_type": "code",
   "execution_count": 9,
   "id": "e4ee296f",
   "metadata": {},
   "outputs": [
    {
     "name": "stdout",
     "output_type": "stream",
     "text": [
      "zhangsan    22.0\n",
      "lishi       17.0\n",
      "wangwu       NaN\n",
      "zhaoliu     16.0\n",
      "wanger       NaN\n",
      "Name: age, dtype: float64\n",
      "zhangsan    22.0\n",
      "lishi       17.0\n",
      "wangwu      16.5\n",
      "zhaoliu     16.0\n",
      "wanger      16.0\n",
      "Name: age, dtype: float64\n"
     ]
    }
   ],
   "source": [
    "# 也可以2步骤完成：将无效值替换成空值，再将所有空值，填充为合理值\n",
    "r1 = base_info[\"age\"].replace(25, np.nan)\n",
    "print(r1)\n",
    "r2 = r1.interpolate()\n",
    "print(r2)\n"
   ]
  },
  {
   "cell_type": "code",
   "execution_count": 10,
   "id": "b3be721f",
   "metadata": {},
   "outputs": [
    {
     "name": "stdout",
     "output_type": "stream",
     "text": [
      "           age address gender\n",
      "zhangsan  22.0      nj      f\n",
      "lishi     17.0    None      m\n",
      "wangwu     NaN      nj      f\n",
      "zhaoliu   16.0     NaN      m\n",
      "wanger     NaN      bj      f\n"
     ]
    }
   ],
   "source": [
    "# 替换多列:将无效值替换成空值后，再单独每个列的空值\n",
    "print(base_info.replace({\"age\": 25, \"address\": \"sh\"}, np.nan))\n"
   ]
  },
  {
   "cell_type": "code",
   "execution_count": 11,
   "id": "aa2d0a25",
   "metadata": {},
   "outputs": [
    {
     "name": "stdout",
     "output_type": "stream",
     "text": [
      "********************\n",
      "           age address gender\n",
      "zhangsan  22.0      nj      f\n",
      "lishi     17.0    None      m\n",
      "wangwu     NaN      nj      f\n",
      "zhaoliu   16.0      sh      m\n",
      "wanger    25.0      bj      f\n"
     ]
    }
   ],
   "source": [
    "# 使用对象来填充：对应的空值填充为新值\n",
    "print(\"*\" * 20)\n",
    "print(base_info)\n"
   ]
  },
  {
   "cell_type": "code",
   "execution_count": 12,
   "id": "a46a8672",
   "metadata": {},
   "outputs": [
    {
     "name": "stdout",
     "output_type": "stream",
     "text": [
      "zhangsan    22.0\n",
      "lishi       17.0\n",
      "wangwu      20.0\n",
      "zhaoliu     16.0\n",
      "wanger      22.0\n",
      "Name: age, dtype: float64\n",
      "zhangsan    22.0\n",
      "lishi       17.0\n",
      "wangwu      20.0\n",
      "zhaoliu     16.0\n",
      "wanger      25.0\n",
      "Name: age, dtype: float64\n"
     ]
    }
   ],
   "source": [
    "age_new = base_info[\"age\"].copy()\n",
    "age_new.fillna(20, inplace=True)\n",
    "age_new.replace(25, 22, inplace=True)\n",
    "print(age_new)\n",
    "print(base_info[\"age\"].combine_first(age_new))\n"
   ]
  },
  {
   "cell_type": "code",
   "execution_count": null,
   "id": "bf0b77a8",
   "metadata": {},
   "outputs": [],
   "source": []
  }
 ],
 "metadata": {
  "kernelspec": {
   "display_name": "PyCharm (test1)",
   "language": "python",
   "name": "pycharm-86e388bf"
  },
  "language_info": {
   "codemirror_mode": {
    "name": "ipython",
    "version": 3
   },
   "file_extension": ".py",
   "mimetype": "text/x-python",
   "name": "python",
   "nbconvert_exporter": "python",
   "pygments_lexer": "ipython3",
   "version": "3.8.8"
  }
 },
 "nbformat": 4,
 "nbformat_minor": 5
}
